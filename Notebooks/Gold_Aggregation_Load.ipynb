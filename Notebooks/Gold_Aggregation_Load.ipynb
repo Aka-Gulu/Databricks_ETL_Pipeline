{
 "cells": [
  {
   "cell_type": "code",
   "execution_count": 0,
   "metadata": {
    "application/vnd.databricks.v1+cell": {
     "cellMetadata": {
      "byteLimit": 2048000,
      "rowLimit": 10000
     },
     "inputWidgets": {},
     "nuid": "d43e3aab-abbb-4334-ba9f-969dba985dcb",
     "showTitle": false,
     "tableResultSettingsMap": {},
     "title": ""
    }
   },
   "outputs": [],
   "source": [
    "# Databricks Notebook source\n",
    "from pyspark.sql.functions import *\n",
    "from pyspark.sql.window import Window\n",
    "\n",
    "# Configure Path\n",
    "SILVER_PATH = \"s3a://data-files-rjx/silver/fire_calls\"\n",
    "GOLD_PATH = \"s3a://data-files-rjx/gold/fire_metrics\"\n",
    "\n",
    "def create_gold_layer():\n",
    "    try:\n",
    "        # 1. Read Silver layer data\n",
    "        silver_df = spark.read.format(\"delta\").load(SILVER_PATH)\n",
    "        \n",
    "        # 2. Core Index calculation\n",
    "        metrics_df = (silver_df\n",
    "            .groupBy(\n",
    "            year(\"Call Date\").alias(\"call_year\"),\n",
    "            month(\"Call Date\").alias(\"call_month\"),\n",
    "            \"Call Type\",\n",
    "            \"Station Area\"\n",
    "        )\n",
    "            .agg(\n",
    "                count(\"*\").alias(\"total_incidents\"),\n",
    "        )\n",
    "            .withColumn(\"report_date\", current_date())\n",
    "        )\n",
    "        \n",
    "        # 3. Time table extraction\n",
    "        date_dim_df = (silver_df\n",
    "            .select(\n",
    "                year(\"Call Date\").alias(\"year\"),\n",
    "                month(\"Call Date\").alias(\"month\"),\n",
    "                dayofmonth(\"Call Date\").alias(\"day\"),\n",
    "                date_format(\"Call Date\", \"EEEE\").alias(\"weekday\")\n",
    "            )\n",
    "            .distinct()\n",
    "        )\n",
    "        \n",
    "        # 4. Write into Gold layer\n",
    "        (metrics_df.write\n",
    "            .mode(\"overwrite\")\n",
    "            .format(\"delta\")\n",
    "            .option(\"delta.columnMapping.mode\", \"name\")\n",
    "            .partitionBy(\"call_year\")  # By year\n",
    "            .save(f\"{GOLD_PATH}/fact_incidents\"))\n",
    "        \n",
    "        (date_dim_df.write\n",
    "            .mode(\"overwrite\")\n",
    "            .format(\"delta\")\n",
    "            .save(f\"{GOLD_PATH}/dim_date\"))\n",
    "        \n",
    "        # 5. Registry metadata\n",
    "        spark.sql(f\"\"\"\n",
    "            CREATE TABLE IF NOT EXISTS gold_fact_incidents\n",
    "            USING DELTA\n",
    "            LOCATION '{GOLD_PATH}/fact_incidents'\n",
    "        \"\"\")\n",
    "        \n",
    "        print(\"✅ Gold层聚合完成！\")\n",
    "        return True\n",
    "        \n",
    "    except Exception as e:\n",
    "        print(f\"❌ 聚合失败: {str(e)}\")\n",
    "        raise\n",
    "\n",
    "\n",
    "create_gold_layer()"
   ]
  },
  {
   "cell_type": "code",
   "execution_count": 0,
   "metadata": {
    "application/vnd.databricks.v1+cell": {
     "cellMetadata": {
      "byteLimit": 2048000,
      "implicitDf": true,
      "rowLimit": 10000
     },
     "inputWidgets": {},
     "nuid": "8d4f6bed-3c3a-42ba-b6a3-0a52d3f2842d",
     "showTitle": false,
     "tableResultSettingsMap": {},
     "title": ""
    }
   },
   "outputs": [],
   "source": [
    "%sql\n",
    "select * from gold_fact_incidents\n",
    "limit 50"
   ]
  }
 ],
 "metadata": {
  "application/vnd.databricks.v1+notebook": {
   "computePreferences": null,
   "dashboards": [],
   "environmentMetadata": {
    "base_environment": "",
    "environment_version": "2"
   },
   "inputWidgetPreferences": null,
   "language": "python",
   "notebookMetadata": {
    "mostRecentlyExecutedCommandWithImplicitDF": {
     "commandId": 6019056096856547,
     "dataframes": [
      "_sqldf"
     ]
    },
    "pythonIndentUnit": 4
   },
   "notebookName": "Gold_Aggregation_Load",
   "widgets": {}
  },
  "language_info": {
   "name": "python"
  }
 },
 "nbformat": 4,
 "nbformat_minor": 0
}
